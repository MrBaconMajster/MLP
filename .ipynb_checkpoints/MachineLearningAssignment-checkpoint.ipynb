{
 "cells": [
  {
   "cell_type": "code",
   "execution_count": 1,
   "metadata": {
    "id": "MVcPwFhvsch4"
   },
   "outputs": [],
   "source": [
    "# 18222757 Maciej Augustynek ,18244327 Bartlomiej Skorecki\n",
    "# Code executes till the end without errors\n",
    "# Original source : "
   ]
  },
  {
   "cell_type": "code",
   "execution_count": 2,
   "metadata": {
    "id": "EBh-8oBAtiV5"
   },
   "outputs": [],
   "source": [
    "import numpy as np \n",
    "import pandas as pd \n",
    "import matplotlib.pyplot as plt\n",
    "%matplotlib inline\n",
    "import tensorflow as tf\n",
    "import keras\n",
    "import glob\n",
    "import cv2\n",
    "import os\n",
    "\n",
    "from tensorflow import keras"
   ]
  },
  {
   "cell_type": "code",
   "execution_count": 3,
   "metadata": {},
   "outputs": [],
   "source": [
    "fruit_images = []\n",
    "labels = [] \n",
    "for fruit_dir_path in glob.glob(\"./Training/*\"):\n",
    "    fruit_label = fruit_dir_path.split(\"\\\\\")[-1]\n",
    "    for image_path in glob.glob(os.path.join(fruit_dir_path, \"*.jpg\")):\n",
    "        image = cv2.imread(image_path, cv2.IMREAD_COLOR)\n",
    "        \n",
    "        image = cv2.resize(image, (45, 45))\n",
    "        image = cv2.cvtColor(image, cv2.COLOR_RGB2BGR)\n",
    "        \n",
    "        fruit_images.append(image)\n",
    "        labels.append(fruit_label)\n",
    "fruit_images = np.array(fruit_images)\n",
    "labels = np.array(labels)"
   ]
  },
  {
   "cell_type": "code",
   "execution_count": 4,
   "metadata": {},
   "outputs": [],
   "source": [
    "label_to_id_dict = {v:i for i,v in enumerate(np.unique(labels))}\n",
    "id_to_label_dict = {v: k for k, v in label_to_id_dict.items()}"
   ]
  },
  {
   "cell_type": "code",
   "execution_count": 5,
   "metadata": {},
   "outputs": [
    {
     "data": {
      "text/plain": [
       "{0: 'apple_6',\n",
       " 1: 'apple_braeburn_1',\n",
       " 2: 'apple_crimson_snow_1',\n",
       " 3: 'apple_golden_1',\n",
       " 4: 'apple_golden_2',\n",
       " 5: 'apple_golden_3',\n",
       " 6: 'apple_granny_smith_1',\n",
       " 7: 'apple_hit_1',\n",
       " 8: 'apple_pink_lady_1',\n",
       " 9: 'apple_red_1',\n",
       " 10: 'apple_red_2',\n",
       " 11: 'apple_red_3',\n",
       " 12: 'apple_red_delicios_1',\n",
       " 13: 'apple_red_yellow_1',\n",
       " 14: 'apple_rotten_1',\n",
       " 15: 'cabbage_white_1',\n",
       " 16: 'carrot_1',\n",
       " 17: 'cucumber_1',\n",
       " 18: 'cucumber_3',\n",
       " 19: 'eggplant_violet_1',\n",
       " 20: 'pear_1',\n",
       " 21: 'pear_3',\n",
       " 22: 'zucchini_1',\n",
       " 23: 'zucchini_dark_1'}"
      ]
     },
     "execution_count": 5,
     "metadata": {},
     "output_type": "execute_result"
    }
   ],
   "source": [
    "id_to_label_dict"
   ]
  },
  {
   "cell_type": "code",
   "execution_count": 6,
   "metadata": {},
   "outputs": [],
   "source": [
    "label_ids = np.array([label_to_id_dict[x] for x in labels])"
   ]
  },
  {
   "cell_type": "code",
   "execution_count": 7,
   "metadata": {},
   "outputs": [
    {
     "data": {
      "text/plain": [
       "((6231, 45, 45, 3), (6231,), (6231,))"
      ]
     },
     "execution_count": 7,
     "metadata": {},
     "output_type": "execute_result"
    }
   ],
   "source": [
    "fruit_images.shape, label_ids.shape, labels.shape"
   ]
  },
  {
   "cell_type": "code",
   "execution_count": 8,
   "metadata": {},
   "outputs": [],
   "source": [
    "validation_fruit_images = []\n",
    "validation_labels = [] \n",
    "for fruit_dir_path in glob.glob(\"./Validation/*\"):\n",
    "    fruit_label = fruit_dir_path.split(\"\\\\\")[-1]\n",
    "    for image_path in glob.glob(os.path.join(fruit_dir_path, \"*.jpg\")):\n",
    "        image = cv2.imread(image_path, cv2.IMREAD_COLOR)\n",
    "        \n",
    "        image = cv2.resize(image, (45, 45))\n",
    "        image = cv2.cvtColor(image, cv2.COLOR_RGB2BGR)\n",
    "        \n",
    "        validation_fruit_images.append(image)\n",
    "        validation_labels.append(fruit_label)\n",
    "validation_fruit_images = np.array(validation_fruit_images)\n",
    "validation_labels = np.array(validation_labels)"
   ]
  },
  {
   "cell_type": "code",
   "execution_count": 9,
   "metadata": {},
   "outputs": [],
   "source": [
    "validation_label_ids = np.array([label_to_id_dict[x] for x in validation_labels])"
   ]
  },
  {
   "cell_type": "code",
   "execution_count": 10,
   "metadata": {},
   "outputs": [
    {
     "data": {
      "text/plain": [
       "((3114, 45, 45, 3), (3114,))"
      ]
     },
     "execution_count": 10,
     "metadata": {},
     "output_type": "execute_result"
    }
   ],
   "source": [
    "validation_fruit_images.shape, validation_label_ids.shape"
   ]
  },
  {
   "cell_type": "code",
   "execution_count": 11,
   "metadata": {},
   "outputs": [
    {
     "name": "stdout",
     "output_type": "stream",
     "text": [
      "Original Sizes: (6231, 45, 45, 3) (3114, 45, 45, 3) (6231, 24) (3114, 24)\n",
      "Flattened: (6231, 6075) (3114, 6075)\n"
     ]
    }
   ],
   "source": [
    "X_train, X_test = fruit_images, validation_fruit_images\n",
    "Y_train, Y_test = label_ids, validation_label_ids\n",
    "\n",
    "#Normalize color values to between 0 and 1\n",
    "X_train = X_train/255\n",
    "X_test = X_test/255\n",
    "\n",
    "#Make a flattened version for some of our models\n",
    "X_flat_train = X_train.reshape(X_train.shape[0], 45*45*3)\n",
    "X_flat_test = X_test.reshape(X_test.shape[0], 45*45*3)\n",
    "\n",
    "#One Hot Encode the Output\n",
    "Y_train = keras.utils.to_categorical(Y_train, 24)\n",
    "Y_test = keras.utils.to_categorical(Y_test, 24)\n",
    "\n",
    "print('Original Sizes:', X_train.shape, X_test.shape, Y_train.shape, Y_test.shape)\n",
    "print('Flattened:', X_flat_train.shape, X_flat_test.shape)"
   ]
  },
  {
   "cell_type": "code",
   "execution_count": 12,
   "metadata": {},
   "outputs": [
    {
     "data": {
      "image/png": "[encoded data removed]",
      "text/plain": [
       "<Figure size 432x288 with 1 Axes>"
      ]
     },
     "metadata": {
      "needs_background": "light"
     },
     "output_type": "display_data"
    }
   ],
   "source": [
    "\n",
    "plt.imshow(X_train[0])\n",
    "plt.show()"
   ]
  },
  {
   "cell_type": "code",
   "execution_count": 13,
   "metadata": {},
   "outputs": [],
   "source": [
    "from tensorflow import keras\n",
    "from tensorflow.keras import layers\n",
    "\n",
    "from keras.models import Sequential\n",
    "from keras.layers import Dense, Dropout, Flatten, Conv2D, MaxPooling2D\n",
    "from keras.layers import LSTM, Input, TimeDistributed\n",
    "from keras.models import Model\n",
    "from tensorflow.keras.optimizers import RMSprop, SGD\n",
    "\n",
    "\n",
    "\n",
    "# Import the backend\n",
    "from keras import backend as K"
   ]
  },
  {
   "cell_type": "code",
   "execution_count": 14,
   "metadata": {},
   "outputs": [
    {
     "name": "stdout",
     "output_type": "stream",
     "text": [
      "Model: \"sequential\"\n",
      "_________________________________________________________________\n",
      "Layer (type)                 Output Shape              Param #   \n",
      "=================================================================\n",
      "dense (Dense)                (None, 128)               777728    \n",
      "_________________________________________________________________\n",
      "dropout (Dropout)            (None, 128)               0         \n",
      "_________________________________________________________________\n",
      "dense_1 (Dense)              (None, 64)                8256      \n",
      "_________________________________________________________________\n",
      "dropout_1 (Dropout)          (None, 64)                0         \n",
      "_________________________________________________________________\n",
      "dense_2 (Dense)              (None, 24)                1560      \n",
      "=================================================================\n",
      "Total params: 787,544\n",
      "Trainable params: 787,544\n",
      "Non-trainable params: 0\n",
      "_________________________________________________________________\n",
      "Epoch 1/10\n",
      "49/49 [==============================] - 1s 10ms/step - loss: 3.5830 - accuracy: 0.1048 - val_loss: 2.5410 - val_accuracy: 0.1612\n",
      "Epoch 2/10\n",
      "49/49 [==============================] - 0s 8ms/step - loss: 2.1329 - accuracy: 0.3205 - val_loss: 1.4211 - val_accuracy: 0.5678\n",
      "Epoch 3/10\n",
      "49/49 [==============================] - 0s 8ms/step - loss: 1.4214 - accuracy: 0.5179 - val_loss: 0.7993 - val_accuracy: 0.7836\n",
      "Epoch 4/10\n",
      "49/49 [==============================] - 0s 8ms/step - loss: 1.0615 - accuracy: 0.6273 - val_loss: 0.6068 - val_accuracy: 0.8330\n",
      "Epoch 5/10\n",
      "49/49 [==============================] - 0s 8ms/step - loss: 0.8555 - accuracy: 0.7026 - val_loss: 0.4971 - val_accuracy: 0.8279\n",
      "Epoch 6/10\n",
      "49/49 [==============================] - 0s 9ms/step - loss: 0.7313 - accuracy: 0.7323 - val_loss: 0.3963 - val_accuracy: 0.9053\n",
      "Epoch 7/10\n",
      "49/49 [==============================] - 0s 8ms/step - loss: 0.6145 - accuracy: 0.7785 - val_loss: 0.3791 - val_accuracy: 0.8706\n",
      "Epoch 8/10\n",
      "49/49 [==============================] - 0s 8ms/step - loss: 0.5614 - accuracy: 0.7888 - val_loss: 0.5429 - val_accuracy: 0.7990\n",
      "Epoch 9/10\n",
      "49/49 [==============================] - 0s 8ms/step - loss: 0.4868 - accuracy: 0.8215 - val_loss: 0.3745 - val_accuracy: 0.8619\n",
      "Epoch 10/10\n",
      "49/49 [==============================] - 0s 8ms/step - loss: 0.4206 - accuracy: 0.8474 - val_loss: 0.2473 - val_accuracy: 0.9162\n",
      "Test loss: 0.2472977340221405\n",
      "Test accuracy: 0.9161849617958069\n"
     ]
    }
   ],
   "source": [
    "model_dense = Sequential()\n",
    "\n",
    "# Add dense layers to create a fully connected MLP\n",
    "# Note that we specify an input shape for the first layer, but only the first layer.\n",
    "# Relu is the activation function used\n",
    "model_dense.add(Dense(128, activation='relu', input_shape=(X_flat_train.shape[1],)))\n",
    "# Dropout layers remove features and fight overfitting\n",
    "model_dense.add(Dropout(0.1))\n",
    "model_dense.add(Dense(64, activation='relu'))\n",
    "model_dense.add(Dropout(0.1))\n",
    "# End with a number of units equal to the number of classes we have for our outcome\n",
    "model_dense.add(Dense(24, activation='softmax'))\n",
    "\n",
    "model_dense.summary()\n",
    "\n",
    "# Compile the model to put it all together.\n",
    "model_dense.compile(loss='categorical_crossentropy',\n",
    "              optimizer=RMSprop(),\n",
    "              metrics=['accuracy'])\n",
    "\n",
    "history_dense = model_dense.fit(X_flat_train, Y_train,\n",
    "                          batch_size=128,\n",
    "                          epochs=10,\n",
    "                          verbose=1,\n",
    "                          validation_data=(X_flat_test, Y_test))\n",
    "score = model_dense.evaluate(X_flat_test, Y_test, verbose=0)\n",
    "print('Test loss:', score[0])\n",
    "print('Test accuracy:', score[1])"
   ]
  },
  {
   "cell_type": "code",
   "execution_count": null,
   "metadata": {},
   "outputs": [],
   "source": [
    "import matplotlib.pyplot as plt\n",
    "import seaborn as sns\n",
    "sns.set_style('whitegrid')\n",
    "plt.figure(figsize=(12,8))\n",
    "plt.plot(history_dense.history['accuracy'])\n",
    "plt.plot(history_dense.history['val_accuracy'])\n",
    "plt.xlabel('Epochs')\n",
    "plt.ylabel('Accuracy score')\n",
    "plt.title('Model Accuracy')\n",
    "plt.legend(['Train','Test'])\n",
    "plt.show()"
   ]
  },
  {
   "cell_type": "code",
   "execution_count": 15,
   "metadata": {},
   "outputs": [
    {
     "name": "stdout",
     "output_type": "stream",
     "text": [
      "Model: \"sequential_1\"\n",
      "_________________________________________________________________\n",
      "Layer (type)                 Output Shape              Param #   \n",
      "=================================================================\n",
      "dense_3 (Dense)              (None, 256)               1555456   \n",
      "_________________________________________________________________\n",
      "dropout_2 (Dropout)          (None, 256)               0         \n",
      "_________________________________________________________________\n",
      "dense_4 (Dense)              (None, 128)               32896     \n",
      "_________________________________________________________________\n",
      "dropout_3 (Dropout)          (None, 128)               0         \n",
      "_________________________________________________________________\n",
      "dense_5 (Dense)              (None, 128)               16512     \n",
      "_________________________________________________________________\n",
      "dropout_4 (Dropout)          (None, 128)               0         \n",
      "_________________________________________________________________\n",
      "dense_6 (Dense)              (None, 64)                8256      \n",
      "_________________________________________________________________\n",
      "dropout_5 (Dropout)          (None, 64)                0         \n",
      "_________________________________________________________________\n",
      "dense_7 (Dense)              (None, 64)                4160      \n",
      "_________________________________________________________________\n",
      "dropout_6 (Dropout)          (None, 64)                0         \n",
      "_________________________________________________________________\n",
      "dense_8 (Dense)              (None, 24)                1560      \n",
      "=================================================================\n",
      "Total params: 1,618,840\n",
      "Trainable params: 1,618,840\n",
      "Non-trainable params: 0\n",
      "_________________________________________________________________\n",
      "Epoch 1/10\n",
      "49/49 [==============================] - 1s 17ms/step - loss: 3.0014 - accuracy: 0.1149 - val_loss: 2.6614 - val_accuracy: 0.1426\n",
      "Epoch 2/10\n",
      "49/49 [==============================] - 1s 15ms/step - loss: 2.0342 - accuracy: 0.3109 - val_loss: 1.3863 - val_accuracy: 0.5379\n",
      "Epoch 3/10\n",
      "49/49 [==============================] - 1s 15ms/step - loss: 1.3247 - accuracy: 0.5185 - val_loss: 0.7804 - val_accuracy: 0.7344\n",
      "Epoch 4/10\n",
      "49/49 [==============================] - 1s 15ms/step - loss: 1.0457 - accuracy: 0.6115 - val_loss: 0.9835 - val_accuracy: 0.6352\n",
      "Epoch 5/10\n",
      "49/49 [==============================] - 1s 15ms/step - loss: 0.8166 - accuracy: 0.7021 - val_loss: 0.8337 - val_accuracy: 0.6676\n",
      "Epoch 6/10\n",
      "49/49 [==============================] - 1s 15ms/step - loss: 0.6638 - accuracy: 0.7514 - val_loss: 0.6124 - val_accuracy: 0.7662\n",
      "Epoch 7/10\n",
      "49/49 [==============================] - 1s 15ms/step - loss: 0.5737 - accuracy: 0.7952 - val_loss: 0.1929 - val_accuracy: 0.9258\n",
      "Epoch 8/10\n",
      "49/49 [==============================] - 1s 15ms/step - loss: 0.5256 - accuracy: 0.8166 - val_loss: 0.2932 - val_accuracy: 0.8870\n",
      "Epoch 9/10\n",
      "49/49 [==============================] - 1s 15ms/step - loss: 0.4518 - accuracy: 0.8328 - val_loss: 0.2396 - val_accuracy: 0.9037\n",
      "Epoch 10/10\n",
      "49/49 [==============================] - 1s 14ms/step - loss: 0.3917 - accuracy: 0.8652 - val_loss: 0.6074 - val_accuracy: 0.8195\n",
      "Test loss: 0.6074270009994507\n",
      "Test accuracy: 0.8195247054100037\n"
     ]
    }
   ],
   "source": [
    "model_deep = Sequential()\n",
    "\n",
    "# Add dense layers to create a fully connected MLP\n",
    "# Note that we specify an input shape for the first layer, but only the first layer.\n",
    "# Relu is the activation function used\n",
    "model_deep.add(Dense(256, activation='relu', input_shape=(X_flat_train.shape[1],)))\n",
    "# Dropout layers remove features and fight overfitting\n",
    "model_deep.add(Dropout(0.05))\n",
    "model_deep.add(Dense(128, activation='relu'))\n",
    "model_deep.add(Dropout(0.05))\n",
    "model_deep.add(Dense(128, activation='relu'))\n",
    "model_deep.add(Dropout(0.05))\n",
    "model_deep.add(Dense(64, activation='relu'))\n",
    "model_deep.add(Dropout(0.05))\n",
    "model_deep.add(Dense(64, activation='relu'))\n",
    "model_deep.add(Dropout(0.05))\n",
    "# End with a number of units equal to the number of classes we have for our outcome\n",
    "model_deep.add(Dense(24, activation='softmax'))\n",
    "\n",
    "model_deep.summary()\n",
    "\n",
    "# Compile the model to put it all together.\n",
    "model_deep.compile(loss='categorical_crossentropy',\n",
    "              optimizer=RMSprop(),\n",
    "              metrics=['accuracy'])\n",
    "\n",
    "history_deep = model_deep.fit(X_flat_train, Y_train,\n",
    "                          batch_size=128,\n",
    "                          epochs=10,\n",
    "                          verbose=1,\n",
    "                          validation_data=(X_flat_test, Y_test))\n",
    "score = model_deep.evaluate(X_flat_test, Y_test, verbose=0)\n",
    "print('Test loss:', score[0])\n",
    "print('Test accuracy:', score[1])"
   ]
  },
  {
   "cell_type": "code",
   "execution_count": 16,
   "metadata": {},
   "outputs": [
    {
     "data": {
      "image/png": "[encoded data removed]",
      "text/plain": [
       "<Figure size 864x576 with 1 Axes>"
      ]
     },
     "metadata": {},
     "output_type": "display_data"
    }
   ],
   "source": [
    "import matplotlib.pyplot as plt\n",
    "import seaborn as sns\n",
    "sns.set_style('whitegrid')\n",
    "plt.figure(figsize=(12,8))\n",
    "plt.plot(history_deep.history['accuracy'])\n",
    "plt.plot(history_deep.history['val_accuracy'])\n",
    "plt.xlabel('Epochs')\n",
    "plt.ylabel('Accuracy score')\n",
    "plt.title('Model Accuracy')\n",
    "plt.legend(['Train','Test'])\n",
    "plt.show()"
   ]
  }
 ],
 "metadata": {
  "colab": {
   "collapsed_sections": [],
   "name": "Untitled2.ipynb",
   "provenance": []
  },
  "kernelspec": {
   "display_name": "Python 3 (ipykernel)",
   "language": "python",
   "name": "python3"
  },
  "language_info": {
   "codemirror_mode": {
    "name": "ipython",
    "version": 3
   },
   "file_extension": ".py",
   "mimetype": "text/x-python",
   "name": "python",
   "nbconvert_exporter": "python",
   "pygments_lexer": "ipython3",
   "version": "3.8.3"
  }
 },
 "nbformat": 4,
 "nbformat_minor": 4
}
